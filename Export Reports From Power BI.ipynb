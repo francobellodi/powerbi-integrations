{
 "cells": [
  {
   "cell_type": "code",
   "id": "63e535b0",
   "metadata": {
    "ExecuteTime": {
     "end_time": "2024-09-16T04:14:17.932526Z",
     "start_time": "2024-09-16T04:14:17.673034Z"
    }
   },
   "source": [
    "import time\n",
    "from selenium import webdriver\n",
    "from selenium.webdriver.common.by import By\n",
    "from selenium.webdriver.common.keys import Keys\n",
    "from selenium.webdriver.support.ui import WebDriverWait\n",
    "from selenium.webdriver.common.action_chains import ActionChains\n",
    "from selenium.webdriver.support.expected_conditions import presence_of_element_located\n",
    "from time import gmtime, strftime\n",
    "import datetime\n",
    "import os\n",
    "import win32com.client as win32"
   ],
   "outputs": [],
   "execution_count": 1
  },
  {
   "cell_type": "code",
   "id": "0a22b6a3",
   "metadata": {
    "ExecuteTime": {
     "end_time": "2024-09-16T04:14:18.849215Z",
     "start_time": "2024-09-16T04:14:18.843831Z"
    }
   },
   "source": [
    "#defining initial and base report URL\n",
    "initial_url = \"https://app.powerbi.com/groups/9373eebd-72e5-49dd-aca6-889cab881e8d/list\"\n",
    "base_url = \"https://app.powerbi.com/groups/9373eebd-72e5-49dd-aca6-889cab881e8d/reports/\"\n",
    "\n",
    "#Setting credentials\n",
    "email = \"youremail@microsoft.com\"\n",
    "password = \"password\""
   ],
   "outputs": [],
   "execution_count": 2
  },
  {
   "metadata": {
    "ExecuteTime": {
     "end_time": "2024-09-16T04:14:24.950435Z",
     "start_time": "2024-09-16T04:14:19.276667Z"
    }
   },
   "cell_type": "code",
   "source": [
    "#Creating Driver and setting driver options\n",
    "options = webdriver.ChromeOptions()\n",
    "\n",
    "#Define directory for downloading files\n",
    "prefs = {'download.default_directory' : r'C:\\Users\\user\\projects'}\n",
    "options.add_argument(\"--disable-extensions\")\n",
    "options.add_argument(\"--start-maximized\")\n",
    "options.add_argument('window-size=2560,1440')\n",
    "options.add_argument(\"--headless\")\n",
    "options.add_experimental_option('prefs', prefs)\n",
    "\n",
    "#Create Chrome driver\n",
    "driver = webdriver.Chrome(options=options)\n",
    "driver.maximize_window()\n",
    "driver.implicitly_wait(10)\n",
    "\n",
    "#Navigating to initial URL\n",
    "driver.get(initial_url)"
   ],
   "id": "7192e21921fc3f67",
   "outputs": [],
   "execution_count": 3
  },
  {
   "metadata": {
    "ExecuteTime": {
     "end_time": "2024-09-16T04:14:24.975870Z",
     "start_time": "2024-09-16T04:14:24.970361Z"
    }
   },
   "cell_type": "code",
   "source": [
    "#Creating dictionary containing all reports that need to be extracted, with their respective information and recipients\n",
    "exportToPdfBase = {\n",
    "    \"Revenue Daily\": {\n",
    "        \"report\":\"90a1e396-5790-4d18-b9ec-55baf7c77e37\",\n",
    "        \"report_page\":\"ReportSection72917cadc43c76a9c8ce\",\n",
    "        \"email_recipients\": [\"youremail@microsoft.com\", \"youremail@microsoft.com\"]\n",
    "    },\n",
    "    \"Revenue Monthly\": {\n",
    "        \"report\":\"90a1e396-5790-4d18-b9ec-55baf7c77e37\",\n",
    "        \"report_page\":\"ReportSection952452ec557092634076\",\n",
    "        \"email_recipients\": [\"youremail@microsoft.com\", \"youremail@microsoft.com\"]\n",
    "    },\n",
    "    \"Receivables\": {\n",
    "        \"report\":\"90a1e396-5790-4d18-b9ec-55baf7c77e37\",\n",
    "        \"report_page\":\"b46561f030ed045803ec\",\n",
    "        \"email_recipients\": [\"youremail@microsoft.com\", \"youremail@microsoft.com\"]\n",
    "    },\n",
    "    \"Revenue By Category\": {\n",
    "        \"report\":\"90a1e396-5790-4d18-b9ec-55baf7c77e37\",\n",
    "        \"report_page\":\"18b49249f0f077c24c0f\",\n",
    "        \"email_recipients\": [\"youremail@microsoft.com\", \"youremail@microsoft.com\"]\n",
    "    },\n",
    "    \"Specialties\": {\n",
    "        \"report\":\"90a1e396-5790-4d18-b9ec-55baf7c77e37\",\n",
    "        \"report_page\":\"5e62ded0492ca000700b\",\n",
    "        \"email_recipients\": [\"youremail@microsoft.com\", \"youremail@microsoft.com\"]\n",
    "    },\n",
    "    \"Client Base\": {\n",
    "        \"report\":\"90a1e396-5790-4d18-b9ec-55baf7c77e37\",\n",
    "        \"report_page\":\"49bba905c7c37db940a4\",\n",
    "        \"email_recipients\": [\"youremail@microsoft.com\", \"youremail@microsoft.com\"]\n",
    "    }\n",
    "}"
   ],
   "id": "cebef8e829493b54",
   "outputs": [],
   "execution_count": 4
  },
  {
   "cell_type": "code",
   "id": "4f2aabb4",
   "metadata": {
    "ExecuteTime": {
     "end_time": "2024-09-16T04:14:24.994598Z",
     "start_time": "2024-09-16T04:14:24.988389Z"
    }
   },
   "source": [
    "def logInMicrosoftPowerBI(email, password, driver):\n",
    "    # --Pass O365 credentials finding the username/email field\n",
    "    driver.find_element(By.ID, \"email\").send_keys(email)\n",
    "\n",
    "    #Click the submit button\n",
    "    driver.find_element(By.ID, \"submitBtn\").click()\n",
    "    time.sleep(10)\n",
    "    driver.get_screenshot_as_file(\"01 after email input.png\")\n",
    "    \n",
    "    # --Pass O365 credentials finding the password field\n",
    "    driver.find_element(By.ID, \"i0118\").send_keys(password)\n",
    "\n",
    "    #Click the submit button\n",
    "    driver.find_element(By.ID, \"idSIButton9\").click()\n",
    "    time.sleep(10)\n",
    "    driver.get_screenshot_as_file(\"02 after password input.png\")\n",
    "    \n",
    "    # Select not remind user\n",
    "    driver.find_element(By.ID, \"idBtn_Back\").click()\n",
    "    time.sleep(10)\n",
    "    driver.get_screenshot_as_file(\"03 after not reminding user.png\")\n"
   ],
   "outputs": [],
   "execution_count": 5
  },
  {
   "cell_type": "code",
   "id": "7c67669b",
   "metadata": {
    "ExecuteTime": {
     "end_time": "2024-09-16T04:14:25.041904Z",
     "start_time": "2024-09-16T04:14:25.029754Z"
    }
   },
   "source": [
    "def getReportPDF(base_url, report, report_page, driver, name):\n",
    "    #Setting report page URL and navigating driver\n",
    "    report_page_url = base_url + report + \"/\" + report_page\n",
    "    driver.get(report_page_url)\n",
    "    time.sleep(15)\n",
    "    driver.get_screenshot_as_file(f\"{name} 04 after accessing report page.png\")\n",
    "    \n",
    "    #Finding export button and clicking\n",
    "    driver.find_element(By.ID, \"exportMenuBtn\").click()\n",
    "    time.sleep(5)\n",
    "    driver.get_screenshot_as_file(f\"{name} 05 after clicking export button.png\")\n",
    "    \n",
    "    #Finding Export to PDF button and clicking\n",
    "    driver.find_element('css selector', 'button[data-testid=\"export-to-pdf-btn\"]').click()\n",
    "    time.sleep(5)\n",
    "    driver.get_screenshot_as_file(f\"{name} 06 after clicking PDF.png\")\n",
    "    \n",
    "    #Finding export current page only checkbox and clicking\n",
    "    # Find the checkbox element and click\n",
    "    checkbox = driver.find_element(By.XPATH, '//*[@name=\"export-only-current-page\"]//input[@data-testid=\"pbi-checkbox-input\"]')\n",
    "    driver.execute_script(\"arguments[0].click();\", checkbox)\n",
    "    time.sleep(5)\n",
    "    driver.get_screenshot_as_file(f\"{name} 08 after clicking checkbox.png\")\n",
    "    \n",
    "    #Finding export button and clicking\n",
    "    driver.find_element(By.ID, \"okButton\").click()\n",
    "    time.sleep(2)\n",
    "    driver.get_screenshot_as_file(f\"{name} 09 after clicking export button.png\")\n",
    "    time.sleep(60)\n",
    "    \n",
    "    # Renaming file for versioning control\n",
    "    old_file_path = r'C:\\Users\\user\\projects\\base.pdf'\n",
    "    today_date = datetime.datetime.today().strftime('%Y-%m-%d')\n",
    "    new_file_name = f\"{today_date}_{name}.pdf\"\n",
    "    new_file_path = os.path.join(r'C:\\Users\\user\\projects', new_file_name)\n",
    "    \n",
    "    # Rename the file\n",
    "    os.rename(old_file_path, new_file_path)\n",
    "    print(f\"File renamed to: {new_file_path}\")\n",
    "    \n",
    "    return new_file_path"
   ],
   "outputs": [],
   "execution_count": 6
  },
  {
   "metadata": {
    "ExecuteTime": {
     "end_time": "2024-09-16T04:14:25.058226Z",
     "start_time": "2024-09-16T04:14:25.052858Z"
    }
   },
   "cell_type": "code",
   "source": [
    "def sendReportViaOutlook(file_path, recipients_list):\n",
    "    \n",
    "    # Outlook connection\n",
    "    outlook = win32.Dispatch('outlook.application')\n",
    "    mail = outlook.CreateItem(0)\n",
    "    \n",
    "    recipients = '; '.join(recipients_list)\n",
    "    \n",
    "    # Email configuration\n",
    "    mail.To = recipients  # Add the recipient's email\n",
    "    mail.Subject = 'Your Power BI Report'\n",
    "    mail.Body = 'Please find the attached report.'\n",
    "    \n",
    "    # Attach the file\n",
    "    attachment_path = file_path\n",
    "    mail.Attachments.Add(attachment_path)\n",
    "    \n",
    "    # Send the email\n",
    "    mail.Send()\n",
    "    \n",
    "    print(\"Email sent successfully.\")"
   ],
   "id": "703b63748115db54",
   "outputs": [],
   "execution_count": 7
  },
  {
   "cell_type": "code",
   "id": "96f2d971",
   "metadata": {
    "ExecuteTime": {
     "end_time": "2024-09-16T04:15:03.006211Z",
     "start_time": "2024-09-16T04:14:25.088060Z"
    }
   },
   "source": [
    "logInMicrosoftPowerBI(email, password, driver)"
   ],
   "outputs": [],
   "execution_count": 8
  },
  {
   "cell_type": "code",
   "id": "fd9362b4",
   "metadata": {
    "ExecuteTime": {
     "end_time": "2024-09-16T04:22:41.870844Z",
     "start_time": "2024-09-16T04:19:18.561578Z"
    }
   },
   "source": [
    "for i in exportToPdfBase:\n",
    "    file_path = getReportPDF(base_url, exportToPdfBase[i][\"report\"], exportToPdfBase[i][\"report_page\"], driver, i)\n",
    "    sendReportViaOutlook(file_path, exportToPdfBase[i][\"email_recipients\"])"
   ],
   "outputs": [
    {
     "name": "stdout",
     "output_type": "stream",
     "text": [
      "File renamed to: C:\\Users\\Franco Bellodi\\PycharmProjects\\pythonProject\\.venv\\Scripts\\Núttria\\2024-09-15_Faturamento Diário.pdf\n",
      "Email sent successfully.\n"
     ]
    },
    {
     "ename": "FileNotFoundError",
     "evalue": "[WinError 2] O sistema não pode encontrar o arquivo especificado: 'C:\\\\Users\\\\Franco Bellodi\\\\PycharmProjects\\\\pythonProject\\\\.venv\\\\Scripts\\\\Núttria\\\\Billing Núttria 2024.pdf' -> 'C:\\\\Users\\\\Franco Bellodi\\\\PycharmProjects\\\\pythonProject\\\\.venv\\\\Scripts\\\\Núttria\\\\2024-09-15_Faturamento Mês.pdf'",
     "output_type": "error",
     "traceback": [
      "\u001B[1;31m---------------------------------------------------------------------------\u001B[0m",
      "\u001B[1;31mFileNotFoundError\u001B[0m                         Traceback (most recent call last)",
      "Cell \u001B[1;32mIn[10], line 2\u001B[0m\n\u001B[0;32m      1\u001B[0m \u001B[38;5;28;01mfor\u001B[39;00m i \u001B[38;5;129;01min\u001B[39;00m exportToPdfBase:\n\u001B[1;32m----> 2\u001B[0m     file_path \u001B[38;5;241m=\u001B[39m \u001B[43mgetReportPDF\u001B[49m\u001B[43m(\u001B[49m\u001B[43mbase_url\u001B[49m\u001B[43m,\u001B[49m\u001B[43m \u001B[49m\u001B[43mexportToPdfBase\u001B[49m\u001B[43m[\u001B[49m\u001B[43mi\u001B[49m\u001B[43m]\u001B[49m\u001B[43m[\u001B[49m\u001B[38;5;124;43m\"\u001B[39;49m\u001B[38;5;124;43mreport\u001B[39;49m\u001B[38;5;124;43m\"\u001B[39;49m\u001B[43m]\u001B[49m\u001B[43m,\u001B[49m\u001B[43m \u001B[49m\u001B[43mexportToPdfBase\u001B[49m\u001B[43m[\u001B[49m\u001B[43mi\u001B[49m\u001B[43m]\u001B[49m\u001B[43m[\u001B[49m\u001B[38;5;124;43m\"\u001B[39;49m\u001B[38;5;124;43mreport_page\u001B[39;49m\u001B[38;5;124;43m\"\u001B[39;49m\u001B[43m]\u001B[49m\u001B[43m,\u001B[49m\u001B[43m \u001B[49m\u001B[43mdriver\u001B[49m\u001B[43m,\u001B[49m\u001B[43m \u001B[49m\u001B[43mi\u001B[49m\u001B[43m)\u001B[49m\n\u001B[0;32m      3\u001B[0m     sendReportViaOutlook(file_path, exportToPdfBase[i][\u001B[38;5;124m\"\u001B[39m\u001B[38;5;124memail_recipients\u001B[39m\u001B[38;5;124m\"\u001B[39m])\n",
      "Cell \u001B[1;32mIn[6], line 37\u001B[0m, in \u001B[0;36mgetReportPDF\u001B[1;34m(base_url, report, report_page, driver, name)\u001B[0m\n\u001B[0;32m     34\u001B[0m new_file_path \u001B[38;5;241m=\u001B[39m os\u001B[38;5;241m.\u001B[39mpath\u001B[38;5;241m.\u001B[39mjoin(\u001B[38;5;124mr\u001B[39m\u001B[38;5;124m'\u001B[39m\u001B[38;5;124mC:\u001B[39m\u001B[38;5;124m\\\u001B[39m\u001B[38;5;124mUsers\u001B[39m\u001B[38;5;124m\\\u001B[39m\u001B[38;5;124mFranco Bellodi\u001B[39m\u001B[38;5;124m\\\u001B[39m\u001B[38;5;124mPycharmProjects\u001B[39m\u001B[38;5;124m\\\u001B[39m\u001B[38;5;124mpythonProject\u001B[39m\u001B[38;5;124m\\\u001B[39m\u001B[38;5;124m.venv\u001B[39m\u001B[38;5;124m\\\u001B[39m\u001B[38;5;124mScripts\u001B[39m\u001B[38;5;124m\\\u001B[39m\u001B[38;5;124mNúttria\u001B[39m\u001B[38;5;124m'\u001B[39m, new_file_name)\n\u001B[0;32m     36\u001B[0m \u001B[38;5;66;03m# Rename the file\u001B[39;00m\n\u001B[1;32m---> 37\u001B[0m \u001B[43mos\u001B[49m\u001B[38;5;241;43m.\u001B[39;49m\u001B[43mrename\u001B[49m\u001B[43m(\u001B[49m\u001B[43mold_file_path\u001B[49m\u001B[43m,\u001B[49m\u001B[43m \u001B[49m\u001B[43mnew_file_path\u001B[49m\u001B[43m)\u001B[49m\n\u001B[0;32m     38\u001B[0m \u001B[38;5;28mprint\u001B[39m(\u001B[38;5;124mf\u001B[39m\u001B[38;5;124m\"\u001B[39m\u001B[38;5;124mFile renamed to: \u001B[39m\u001B[38;5;132;01m{\u001B[39;00mnew_file_path\u001B[38;5;132;01m}\u001B[39;00m\u001B[38;5;124m\"\u001B[39m)\n\u001B[0;32m     40\u001B[0m \u001B[38;5;28;01mreturn\u001B[39;00m new_file_path\n",
      "\u001B[1;31mFileNotFoundError\u001B[0m: [WinError 2] O sistema não pode encontrar o arquivo especificado: 'C:\\\\Users\\\\Franco Bellodi\\\\PycharmProjects\\\\pythonProject\\\\.venv\\\\Scripts\\\\Núttria\\\\Billing Núttria 2024.pdf' -> 'C:\\\\Users\\\\Franco Bellodi\\\\PycharmProjects\\\\pythonProject\\\\.venv\\\\Scripts\\\\Núttria\\\\2024-09-15_Faturamento Mês.pdf'"
     ]
    }
   ],
   "execution_count": 10
  }
 ],
 "metadata": {
  "kernelspec": {
   "display_name": "Python 3 (ipykernel)",
   "language": "python",
   "name": "python3"
  },
  "language_info": {
   "codemirror_mode": {
    "name": "ipython",
    "version": 3
   },
   "file_extension": ".py",
   "mimetype": "text/x-python",
   "name": "python",
   "nbconvert_exporter": "python",
   "pygments_lexer": "ipython3",
   "version": "3.12.4"
  }
 },
 "nbformat": 4,
 "nbformat_minor": 5
}
